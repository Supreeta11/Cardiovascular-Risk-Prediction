{
  "nbformat": 4,
  "nbformat_minor": 0,
  "metadata": {
    "_change_revision": 0,
    "_is_fork": false,
    "kernelspec": {
      "display_name": "Python 3",
      "language": "python",
      "name": "python3"
    },
    "language_info": {
      "codemirror_mode": {
        "name": "ipython",
        "version": 3
      },
      "file_extension": ".py",
      "mimetype": "text/x-python",
      "name": "python",
      "nbconvert_exporter": "python",
      "pygments_lexer": "ipython3",
      "version": "3.6.6"
    },
    "colab": {
      "name": "Cardiovascular Risk Prediction-Supreeta kumari",
      "provenance": [],
      "collapsed_sections": [],
      "include_colab_link": true
    }
  },
  "cells": [
    {
      "cell_type": "markdown",
      "metadata": {
        "id": "view-in-github",
        "colab_type": "text"
      },
      "source": [
        "<a href=\"https://colab.research.google.com/github/Supreeta11/Cardiovascular-Risk-Prediction/blob/main/Cardiovascular_Risk_Prediction_Supreeta_kumari.ipynb\" target=\"_parent\"><img src=\"https://colab.research.google.com/assets/colab-badge.svg\" alt=\"Open In Colab\"/></a>"
      ]
    },
    {
      "cell_type": "markdown",
      "source": [
        "## Importing Required Libraries"
      ],
      "metadata": {
        "id": "KKF8A22G_pHs"
      }
    },
    {
      "cell_type": "code",
      "metadata": {
        "id": "9VJcMedizGW8",
        "colab": {
          "base_uri": "https://localhost:8080/"
        },
        "outputId": "8b54fb95-d06d-468e-fb92-4f15cd92cd90"
      },
      "source": [
        "import pandas as pd\n",
        "import numpy as np\n",
        "from sklearn.model_selection import train_test_split, StratifiedKFold, GridSearchCV\n",
        "import seaborn as sns\n",
        "import matplotlib.pyplot as plt\n",
        "import warnings\n",
        "from scipy.stats import chi2, chi2_contingency, f_oneway\n",
        "from statsmodels.stats.outliers_influence import variance_inflation_factor\n",
        "from sklearn.svm import SVC\n",
        "from sklearn.metrics import roc_auc_score, recall_score, precision_score,\\\n",
        " accuracy_score, roc_curve, auc, classification_report, confusion_matrix\n",
        "from xgboost import XGBClassifier\n",
        "from imblearn.over_sampling import RandomOverSampler, SMOTE\n",
        "from sklearn.linear_model import LogisticRegression\n",
        "from sklearn.ensemble import RandomForestClassifier\n",
        "from tensorflow.keras import Sequential, layers\n",
        "from sklearn.preprocessing import StandardScaler, MinMaxScaler\n",
        "from sklearn.impute import KNNImputer, SimpleImputer\n",
        "from sklearn.neighbors import KNeighborsClassifier"
      ],
      "execution_count": 1,
      "outputs": [
        {
          "output_type": "stream",
          "name": "stderr",
          "text": [
            "/usr/local/lib/python3.7/dist-packages/statsmodels/tools/_testing.py:19: FutureWarning: pandas.util.testing is deprecated. Use the functions in the public API at pandas.testing instead.\n",
            "  import pandas.util.testing as tm\n"
          ]
        }
      ]
    },
    {
      "cell_type": "code",
      "metadata": {
        "id": "4aPitmk3HLj5"
      },
      "source": [
        "warnings.filterwarnings('ignore')"
      ],
      "execution_count": 3,
      "outputs": []
    },
    {
      "cell_type": "code",
      "metadata": {
        "id": "dByMsuzT8Tnw",
        "colab": {
          "base_uri": "https://localhost:8080/"
        },
        "outputId": "4fd37b86-fe13-4a57-e6a3-bacab6967988"
      },
      "source": [
        "#mount drive\n",
        "from google.colab import drive\n",
        "drive.mount('/content/drive')"
      ],
      "execution_count": 4,
      "outputs": [
        {
          "output_type": "stream",
          "name": "stdout",
          "text": [
            "Mounted at /content/drive\n"
          ]
        }
      ]
    },
    {
      "cell_type": "code",
      "metadata": {
        "id": "dt1VDyIWvYYo"
      },
      "source": [
        "\n",
        "df = pd.read_csv('/content/drive/MyDrive/data_cardiovascular_risk.csv')"
      ],
      "execution_count": 5,
      "outputs": []
    },
    {
      "cell_type": "code",
      "source": [
        "df.info"
      ],
      "metadata": {
        "colab": {
          "base_uri": "https://localhost:8080/"
        },
        "id": "ssE_jwWbvlEc",
        "outputId": "13967708-25e0-4822-ec64-7c9e868f4636"
      },
      "execution_count": 6,
      "outputs": [
        {
          "output_type": "execute_result",
          "data": {
            "text/plain": [
              "<bound method DataFrame.info of         id  age  education sex is_smoking  cigsPerDay  BPMeds  \\\n",
              "0        0   64        2.0   F        YES         3.0     0.0   \n",
              "1        1   36        4.0   M         NO         0.0     0.0   \n",
              "2        2   46        1.0   F        YES        10.0     0.0   \n",
              "3        3   50        1.0   M        YES        20.0     0.0   \n",
              "4        4   64        1.0   F        YES        30.0     0.0   \n",
              "...    ...  ...        ...  ..        ...         ...     ...   \n",
              "3385  3385   60        1.0   F         NO         0.0     0.0   \n",
              "3386  3386   46        1.0   F         NO         0.0     0.0   \n",
              "3387  3387   44        3.0   M        YES         3.0     0.0   \n",
              "3388  3388   60        1.0   M         NO         0.0     NaN   \n",
              "3389  3389   54        3.0   F         NO         0.0     0.0   \n",
              "\n",
              "      prevalentStroke  prevalentHyp  diabetes  totChol  sysBP  diaBP    BMI  \\\n",
              "0                   0             0         0    221.0  148.0   85.0    NaN   \n",
              "1                   0             1         0    212.0  168.0   98.0  29.77   \n",
              "2                   0             0         0    250.0  116.0   71.0  20.35   \n",
              "3                   0             1         0    233.0  158.0   88.0  28.26   \n",
              "4                   0             0         0    241.0  136.5   85.0  26.42   \n",
              "...               ...           ...       ...      ...    ...    ...    ...   \n",
              "3385                0             0         0    261.0  123.5   79.0  29.28   \n",
              "3386                0             0         0    199.0  102.0   56.0  21.96   \n",
              "3387                0             1         0    352.0  164.0  119.0  28.92   \n",
              "3388                0             1         0    191.0  167.0  105.0  23.01   \n",
              "3389                0             0         0    288.0  124.0   77.0  29.88   \n",
              "\n",
              "      heartRate  glucose  TenYearCHD  \n",
              "0          90.0     80.0           1  \n",
              "1          72.0     75.0           0  \n",
              "2          88.0     94.0           0  \n",
              "3          68.0     94.0           1  \n",
              "4          70.0     77.0           0  \n",
              "...         ...      ...         ...  \n",
              "3385       70.0    103.0           0  \n",
              "3386       80.0     84.0           0  \n",
              "3387       73.0     72.0           1  \n",
              "3388       80.0     85.0           0  \n",
              "3389       79.0     92.0           0  \n",
              "\n",
              "[3390 rows x 17 columns]>"
            ]
          },
          "metadata": {},
          "execution_count": 6
        }
      ]
    },
    {
      "cell_type": "code",
      "metadata": {
        "colab": {
          "base_uri": "https://localhost:8080/"
        },
        "id": "Ym085uT1Diw3",
        "outputId": "e892762b-b87c-4783-fa4c-f42415024fc6"
      },
      "source": [
        "# lets check for distribution of classes\n",
        "class_0_count, class_1_count = df[df['TenYearCHD']==0].shape[0], df[df['TenYearCHD']==1].shape[0]\n",
        "print('Class imbalance = %d: %d' % (class_0_count, class_1_count)) # need to address this after some EDA"
      ],
      "execution_count": 7,
      "outputs": [
        {
          "output_type": "stream",
          "name": "stdout",
          "text": [
            "Class imbalance = 2879: 511\n"
          ]
        }
      ]
    },
    {
      "cell_type": "code",
      "metadata": {
        "id": "j3zia5K9CMXL"
      },
      "source": [
        "train_df, test_df = train_test_split(df, test_size=0.2, stratify=df['TenYearCHD'], random_state = 1)"
      ],
      "execution_count": 8,
      "outputs": []
    },
    {
      "cell_type": "code",
      "metadata": {
        "colab": {
          "base_uri": "https://localhost:8080/"
        },
        "id": "5-bIGLdGDLeH",
        "outputId": "b3e2a6cc-0414-4ce5-e709-4901182d051b"
      },
      "source": [
        "train_df.shape"
      ],
      "execution_count": 9,
      "outputs": [
        {
          "output_type": "execute_result",
          "data": {
            "text/plain": [
              "(2712, 17)"
            ]
          },
          "metadata": {},
          "execution_count": 9
        }
      ]
    },
    {
      "cell_type": "code",
      "metadata": {
        "colab": {
          "base_uri": "https://localhost:8080/"
        },
        "id": "Iu0VxoBgDPNy",
        "outputId": "60e8fd3e-bc8d-4f77-be22-e9f8b7ba2bac"
      },
      "source": [
        "test_df.shape"
      ],
      "execution_count": 10,
      "outputs": [
        {
          "output_type": "execute_result",
          "data": {
            "text/plain": [
              "(678, 17)"
            ]
          },
          "metadata": {},
          "execution_count": 10
        }
      ]
    },
    {
      "cell_type": "markdown",
      "source": [
        "## **Exploratory Data Analysis**"
      ],
      "metadata": {
        "id": "OZl7aDS1AMPu"
      }
    },
    {
      "cell_type": "markdown",
      "source": [
        "**Categorical Variables**"
      ],
      "metadata": {
        "id": "kV5hFZgaAZ0D"
      }
    },
    {
      "cell_type": "markdown",
      "source": [
        "* Data cleaning-null values imputation\n",
        "\n",
        "\n",
        "\n"
      ],
      "metadata": {
        "id": "lpy3ewDqAnHJ"
      }
    },
    {
      "cell_type": "code",
      "metadata": {
        "id": "-niMRxa3UFY2"
      },
      "source": [
        "cat_features = ['education', 'sex', 'is_smoking', 'BPMeds', 'prevalentStroke', 'prevalentHyp', 'diabetes']"
      ],
      "execution_count": 41,
      "outputs": []
    },
    {
      "cell_type": "code",
      "metadata": {
        "id": "CikPMj9-T8lq"
      },
      "source": [
        "simp_imputer = SimpleImputer(strategy=\"most_frequent\")\n",
        "simp_imputer.fit(train_df[cat_features])\n",
        "train_df[cat_features]= simp_imputer.transform(train_df[cat_features])\n",
        "test_df[cat_features]= simp_imputer.transform(test_df[cat_features])"
      ],
      "execution_count": 42,
      "outputs": []
    },
    {
      "cell_type": "markdown",
      "source": [
        "## **Education**"
      ],
      "metadata": {
        "id": "DlbIeGS1A27U"
      }
    },
    {
      "cell_type": "code",
      "metadata": {
        "colab": {
          "base_uri": "https://localhost:8080/"
        },
        "id": "LP84vHQ2Q-cm",
        "outputId": "87a33c79-cd05-4182-a745-9f720cf5efb7"
      },
      "source": [
        "train_df.education.unique()"
      ],
      "execution_count": 11,
      "outputs": [
        {
          "output_type": "execute_result",
          "data": {
            "text/plain": [
              "array([ 2.,  3.,  1.,  4., nan])"
            ]
          },
          "metadata": {},
          "execution_count": 11
        }
      ]
    },
    {
      "cell_type": "code",
      "metadata": {
        "colab": {
          "base_uri": "https://localhost:8080/",
          "height": 301
        },
        "id": "d-B_uV3xvzFI",
        "outputId": "c59fb5af-efd6-470f-f885-55e6f41b18ca"
      },
      "source": [
        "freq_df = train_df.groupby('TenYearCHD')['education'].value_counts().unstack(0)\n",
        "pct_df = freq_df.divide(freq_df.sum(axis=1), axis=0)*100\n",
        "pct_df.plot(kind=\"bar\")\n",
        "plt.ylim(0,100)\n",
        "plt.ylabel('Percentage')\n",
        "plt.xticks(rotation=0)"
      ],
      "execution_count": 12,
      "outputs": [
        {
          "output_type": "execute_result",
          "data": {
            "text/plain": [
              "(array([0, 1, 2, 3]), <a list of 4 Text major ticklabel objects>)"
            ]
          },
          "metadata": {},
          "execution_count": 12
        },
        {
          "output_type": "display_data",
          "data": {
            "text/plain": [
              "<Figure size 432x288 with 1 Axes>"
            ],
            "image/png": "[encoded data removed]"
          },
          "metadata": {
            "needs_background": "light"
          }
        }
      ]
    },
    {
      "cell_type": "code",
      "metadata": {
        "id": "ejYZ-F4UagaU"
      },
      "source": [
        "prob = 0.99\n",
        "alpha = 1.0 - prob"
      ],
      "execution_count": 13,
      "outputs": []
    },
    {
      "cell_type": "code",
      "metadata": {
        "id": "Ruj1V2QhuGVV"
      },
      "source": [
        "# using chi-square statistic to determine any dependency between categorical variables\n",
        "def cat_dependency(freq_df, alpha=alpha, verbose=True):\n",
        "  stat, p, dof, expected = chi2_contingency(freq_df)\n",
        "  if p <= alpha:\n",
        "    if verbose:\n",
        "      print('significance=%.3f, p=%.7f' % (alpha, p))\n",
        "      print('Categorical variables are dependent')\n",
        "    return True\n",
        "  else:\n",
        "    if verbose:\n",
        "      print('significance=%.3f, p=%.7f' % (alpha, p))\n",
        "      print('Categorical variables are not dependent')\n",
        "    return False"
      ],
      "execution_count": 14,
      "outputs": []
    },
    {
      "cell_type": "code",
      "metadata": {
        "colab": {
          "base_uri": "https://localhost:8080/"
        },
        "id": "vBTwvRBjbA_9",
        "outputId": "8dfcd554-cfe8-42db-f534-136909a3f106"
      },
      "source": [
        "cat_dependency(freq_df)"
      ],
      "execution_count": 15,
      "outputs": [
        {
          "output_type": "stream",
          "name": "stdout",
          "text": [
            "significance=0.010, p=0.0004690\n",
            "Categorical variables are dependent\n"
          ]
        },
        {
          "output_type": "execute_result",
          "data": {
            "text/plain": [
              "True"
            ]
          },
          "metadata": {},
          "execution_count": 15
        }
      ]
    },
    {
      "cell_type": "markdown",
      "source": [
        "## **sex**"
      ],
      "metadata": {
        "id": "-YuMMJqpEIL3"
      }
    },
    {
      "cell_type": "code",
      "metadata": {
        "colab": {
          "base_uri": "https://localhost:8080/",
          "height": 301
        },
        "id": "0-gEZZGTZHRs",
        "outputId": "ece4e6dd-7af3-4f7c-b177-ca1e511af343"
      },
      "source": [
        "freq_df = train_df.groupby('TenYearCHD')['sex'].value_counts().unstack(0)\n",
        "pct_df = freq_df.divide(freq_df.sum(axis=1), axis=0)*100\n",
        "pct_df.plot(kind=\"bar\")\n",
        "plt.ylim(0,100)\n",
        "plt.ylabel('Percentage')\n",
        "plt.xticks(rotation=0)"
      ],
      "execution_count": 17,
      "outputs": [
        {
          "output_type": "execute_result",
          "data": {
            "text/plain": [
              "(array([0, 1]), <a list of 2 Text major ticklabel objects>)"
            ]
          },
          "metadata": {},
          "execution_count": 17
        },
        {
          "output_type": "display_data",
          "data": {
            "text/plain": [
              "<Figure size 432x288 with 1 Axes>"
            ],
            "image/png": "[encoded data removed]"
          },
          "metadata": {
            "needs_background": "light"
          }
        }
      ]
    },
    {
      "cell_type": "code",
      "metadata": {
        "colab": {
          "base_uri": "https://localhost:8080/"
        },
        "id": "l7QSunI5c4aF",
        "outputId": "3ffe3685-1e09-4e88-8daa-b5ff605db12c"
      },
      "source": [
        "cat_dependency(freq_df)"
      ],
      "execution_count": 18,
      "outputs": [
        {
          "output_type": "stream",
          "name": "stdout",
          "text": [
            "significance=0.010, p=0.0000071\n",
            "Categorical variables are dependent\n"
          ]
        },
        {
          "output_type": "execute_result",
          "data": {
            "text/plain": [
              "True"
            ]
          },
          "metadata": {},
          "execution_count": 18
        }
      ]
    },
    {
      "cell_type": "markdown",
      "source": [
        "**Higher fraction of males are prone to cardiovascular diseases.**"
      ],
      "metadata": {
        "id": "-mGXWpJfEcPF"
      }
    },
    {
      "cell_type": "markdown",
      "source": [
        "# **Smoking**"
      ],
      "metadata": {
        "id": "RcdgBLezE19T"
      }
    },
    {
      "cell_type": "code",
      "metadata": {
        "colab": {
          "base_uri": "https://localhost:8080/",
          "height": 302
        },
        "id": "4H8PolcRZoSQ",
        "outputId": "1357aba0-d598-4ac6-9ae2-5da6df196013"
      },
      "source": [
        "freq_df = train_df.groupby('TenYearCHD')['is_smoking'].value_counts().unstack(0)\n",
        "pct_df = freq_df.divide(freq_df.sum(axis=1), axis=0)*100\n",
        "pct_df.plot(kind=\"bar\")\n",
        "plt.ylim(0,100)\n",
        "plt.ylabel('Percentage')\n",
        "plt.xticks(rotation=0)"
      ],
      "execution_count": 19,
      "outputs": [
        {
          "output_type": "execute_result",
          "data": {
            "text/plain": [
              "(array([0, 1]), <a list of 2 Text major ticklabel objects>)"
            ]
          },
          "metadata": {},
          "execution_count": 19
        },
        {
          "output_type": "display_data",
          "data": {
            "text/plain": [
              "<Figure size 432x288 with 1 Axes>"
            ],
            "image/png": "[encoded data removed]"
          },
          "metadata": {
            "needs_background": "light"
          }
        }
      ]
    },
    {
      "cell_type": "code",
      "metadata": {
        "colab": {
          "base_uri": "https://localhost:8080/"
        },
        "id": "FMx1xWKedEtK",
        "outputId": "2f3be129-d74c-4982-d6c5-a22384e35f40"
      },
      "source": [
        "cat_dependency(freq_df)"
      ],
      "execution_count": 53,
      "outputs": [
        {
          "output_type": "stream",
          "name": "stdout",
          "text": [
            "significance=0.010, p=0.0928572\n",
            "Categorical variables are not dependent\n"
          ]
        },
        {
          "output_type": "execute_result",
          "data": {
            "text/plain": [
              "False"
            ]
          },
          "metadata": {},
          "execution_count": 53
        }
      ]
    },
    {
      "cell_type": "markdown",
      "source": [
        "**statistically smoking has no impact on 10 year risk of CHD**"
      ],
      "metadata": {
        "id": "4qk0viz1E_X4"
      }
    },
    {
      "cell_type": "markdown",
      "source": [
        "##**BP Meds**"
      ],
      "metadata": {
        "id": "pXQSaTV_FS0B"
      }
    },
    {
      "cell_type": "code",
      "metadata": {
        "colab": {
          "base_uri": "https://localhost:8080/"
        },
        "id": "idIk7Qfnb_NE",
        "outputId": "40eb6903-e0df-4910-f709-df63e60213eb"
      },
      "source": [
        "train_df.BPMeds.unique()"
      ],
      "execution_count": 20,
      "outputs": [
        {
          "output_type": "execute_result",
          "data": {
            "text/plain": [
              "array([ 0.,  1., nan])"
            ]
          },
          "metadata": {},
          "execution_count": 20
        }
      ]
    },
    {
      "cell_type": "code",
      "metadata": {
        "colab": {
          "base_uri": "https://localhost:8080/",
          "height": 301
        },
        "id": "qnfLpmPXcNyc",
        "outputId": "4c749da3-2793-4618-85a3-0dab1b7ee753"
      },
      "source": [
        "freq_df = train_df.groupby('TenYearCHD')['BPMeds'].value_counts().unstack(0)\n",
        "pct_df = freq_df.divide(freq_df.sum(axis=1), axis=0)*100\n",
        "pct_df.plot(kind=\"bar\")\n",
        "plt.ylim(0,100)\n",
        "plt.ylabel('Percentage')\n",
        "plt.xticks(rotation=0)"
      ],
      "execution_count": 21,
      "outputs": [
        {
          "output_type": "execute_result",
          "data": {
            "text/plain": [
              "(array([0, 1]), <a list of 2 Text major ticklabel objects>)"
            ]
          },
          "metadata": {},
          "execution_count": 21
        },
        {
          "output_type": "display_data",
          "data": {
            "text/plain": [
              "<Figure size 432x288 with 1 Axes>"
            ],
            "image/png": "[encoded data removed]"
          },
          "metadata": {
            "needs_background": "light"
          }
        }
      ]
    },
    {
      "cell_type": "code",
      "metadata": {
        "colab": {
          "base_uri": "https://localhost:8080/"
        },
        "id": "i7Eu_oxPdpl6",
        "outputId": "ba591606-39e4-40af-e9ef-cb08789844c2"
      },
      "source": [
        "cat_dependency(freq_df)"
      ],
      "execution_count": null,
      "outputs": [
        {
          "output_type": "stream",
          "text": [
            "significance=0.010, p=0.0001078\n",
            "Categorical variables are dependent\n"
          ],
          "name": "stdout"
        },
        {
          "output_type": "execute_result",
          "data": {
            "text/plain": [
              "True"
            ]
          },
          "metadata": {
            "tags": []
          },
          "execution_count": 146
        }
      ]
    },
    {
      "cell_type": "markdown",
      "source": [
        "**People who take Blood Pressure Meds have higher chance of having CHD**"
      ],
      "metadata": {
        "id": "_HlT-Gx5F8vN"
      }
    },
    {
      "cell_type": "markdown",
      "source": [
        "## **Prevalent Stroke**"
      ],
      "metadata": {
        "id": "66UeK1VzGWi8"
      }
    },
    {
      "cell_type": "code",
      "metadata": {
        "colab": {
          "base_uri": "https://localhost:8080/"
        },
        "id": "w_1cwbCRvAYu",
        "outputId": "1758c072-e618-4939-c209-b19db17418f4"
      },
      "source": [
        "train_df.prevalentStroke.unique()"
      ],
      "execution_count": 22,
      "outputs": [
        {
          "output_type": "execute_result",
          "data": {
            "text/plain": [
              "array([0, 1])"
            ]
          },
          "metadata": {},
          "execution_count": 22
        }
      ]
    },
    {
      "cell_type": "code",
      "metadata": {
        "colab": {
          "base_uri": "https://localhost:8080/",
          "height": 301
        },
        "id": "eMlNeRrEx-3B",
        "outputId": "19f84d84-3ee2-4149-fc38-c9f1e741f404"
      },
      "source": [
        "freq_df = train_df.groupby('TenYearCHD')['prevalentStroke'].value_counts().unstack(0)\n",
        "pct_df = freq_df.divide(freq_df.sum(axis=1), axis=0)*100\n",
        "pct_df.plot(kind=\"bar\")\n",
        "plt.ylim(0,100)\n",
        "plt.ylabel('Percentage')\n",
        "plt.xticks(rotation=0)"
      ],
      "execution_count": 23,
      "outputs": [
        {
          "output_type": "execute_result",
          "data": {
            "text/plain": [
              "(array([0, 1]), <a list of 2 Text major ticklabel objects>)"
            ]
          },
          "metadata": {},
          "execution_count": 23
        },
        {
          "output_type": "display_data",
          "data": {
            "text/plain": [
              "<Figure size 432x288 with 1 Axes>"
            ],
            "image/png": "[encoded data removed]"
          },
          "metadata": {
            "needs_background": "light"
          }
        }
      ]
    },
    {
      "cell_type": "code",
      "metadata": {
        "colab": {
          "base_uri": "https://localhost:8080/"
        },
        "id": "wUHUsA8NeDcg",
        "outputId": "132641a6-44a0-4d50-c9f7-1cc07a83b4d9"
      },
      "source": [
        "cat_dependency(freq_df)"
      ],
      "execution_count": 24,
      "outputs": [
        {
          "output_type": "stream",
          "name": "stdout",
          "text": [
            "significance=0.010, p=0.0041885\n",
            "Categorical variables are dependent\n"
          ]
        },
        {
          "output_type": "execute_result",
          "data": {
            "text/plain": [
              "True"
            ]
          },
          "metadata": {},
          "execution_count": 24
        }
      ]
    },
    {
      "cell_type": "markdown",
      "source": [
        "**Higher percentage of patients having with prevalent stroke symptoms have a 10-year risk of CHD**"
      ],
      "metadata": {
        "id": "3F9oKIXeGjVO"
      }
    },
    {
      "cell_type": "markdown",
      "source": [
        "## **Prevalent Hypertension**"
      ],
      "metadata": {
        "id": "CnWq16GpG8fM"
      }
    },
    {
      "cell_type": "code",
      "metadata": {
        "colab": {
          "base_uri": "https://localhost:8080/"
        },
        "id": "hJQ2B_Th1be1",
        "outputId": "b54fd631-0f0a-4ba2-de59-5d70471d0f6b"
      },
      "source": [
        "train_df.prevalentHyp.unique()"
      ],
      "execution_count": 25,
      "outputs": [
        {
          "output_type": "execute_result",
          "data": {
            "text/plain": [
              "array([0, 1])"
            ]
          },
          "metadata": {},
          "execution_count": 25
        }
      ]
    },
    {
      "cell_type": "code",
      "metadata": {
        "colab": {
          "base_uri": "https://localhost:8080/",
          "height": 301
        },
        "id": "UXq0uncf1kou",
        "outputId": "54dac0c9-a2e8-4edb-af02-6157a58a4f1d"
      },
      "source": [
        "freq_df = train_df.groupby('TenYearCHD')['prevalentHyp'].value_counts().unstack(0)\n",
        "pct_df = freq_df.divide(freq_df.sum(axis=1), axis=0)*100\n",
        "pct_df.plot(kind=\"bar\")\n",
        "plt.ylim(0,100)\n",
        "plt.ylabel('Percentage')\n",
        "plt.xticks(rotation=0)"
      ],
      "execution_count": 26,
      "outputs": [
        {
          "output_type": "execute_result",
          "data": {
            "text/plain": [
              "(array([0, 1]), <a list of 2 Text major ticklabel objects>)"
            ]
          },
          "metadata": {},
          "execution_count": 26
        },
        {
          "output_type": "display_data",
          "data": {
            "text/plain": [
              "<Figure size 432x288 with 1 Axes>"
            ],
            "image/png": "[encoded data removed]"
          },
          "metadata": {
            "needs_background": "light"
          }
        }
      ]
    },
    {
      "cell_type": "code",
      "metadata": {
        "colab": {
          "base_uri": "https://localhost:8080/"
        },
        "id": "2d-CAx6gePdZ",
        "outputId": "a58ae738-94dd-4c3a-f472-8e92e36913f6"
      },
      "source": [
        "cat_dependency(freq_df)"
      ],
      "execution_count": 27,
      "outputs": [
        {
          "output_type": "stream",
          "name": "stdout",
          "text": [
            "significance=0.010, p=0.0000000\n",
            "Categorical variables are dependent\n"
          ]
        },
        {
          "output_type": "execute_result",
          "data": {
            "text/plain": [
              "True"
            ]
          },
          "metadata": {},
          "execution_count": 27
        }
      ]
    },
    {
      "cell_type": "markdown",
      "source": [
        "**Hypertension patients are having high risk of CHD**"
      ],
      "metadata": {
        "id": "S7ieVs_FHKp9"
      }
    },
    {
      "cell_type": "markdown",
      "source": [
        "## **Diabetes**"
      ],
      "metadata": {
        "id": "jGsxgvIQHR4-"
      }
    },
    {
      "cell_type": "code",
      "metadata": {
        "colab": {
          "base_uri": "https://localhost:8080/"
        },
        "id": "9k75wUIQ2j14",
        "outputId": "f541c8f4-8354-4d49-ecc9-027770cab580"
      },
      "source": [
        "train_df.diabetes.unique()"
      ],
      "execution_count": 28,
      "outputs": [
        {
          "output_type": "execute_result",
          "data": {
            "text/plain": [
              "array([0, 1])"
            ]
          },
          "metadata": {},
          "execution_count": 28
        }
      ]
    },
    {
      "cell_type": "code",
      "metadata": {
        "colab": {
          "base_uri": "https://localhost:8080/",
          "height": 301
        },
        "id": "8qox-clE2dEG",
        "outputId": "1f70e7a4-2e59-44f2-ceb0-627e402f7f80"
      },
      "source": [
        "freq_df = train_df.groupby('TenYearCHD')['diabetes'].value_counts().unstack(0)\n",
        "pct_df = freq_df.divide(freq_df.sum(axis=1), axis=0)*100\n",
        "pct_df.plot(kind=\"bar\")\n",
        "plt.ylim(0,100)\n",
        "plt.ylabel('Percentage')\n",
        "plt.xticks(rotation=0)"
      ],
      "execution_count": 29,
      "outputs": [
        {
          "output_type": "execute_result",
          "data": {
            "text/plain": [
              "(array([0, 1]), <a list of 2 Text major ticklabel objects>)"
            ]
          },
          "metadata": {},
          "execution_count": 29
        },
        {
          "output_type": "display_data",
          "data": {
            "text/plain": [
              "<Figure size 432x288 with 1 Axes>"
            ],
            "image/png": "[encoded data removed]"
          },
          "metadata": {
            "needs_background": "light"
          }
        }
      ]
    },
    {
      "cell_type": "code",
      "metadata": {
        "colab": {
          "base_uri": "https://localhost:8080/"
        },
        "id": "SvzXSwj7e1VR",
        "outputId": "4766b338-44ab-49f2-e731-54dc6dadb1d7"
      },
      "source": [
        "cat_dependency(freq_df)"
      ],
      "execution_count": 30,
      "outputs": [
        {
          "output_type": "stream",
          "name": "stdout",
          "text": [
            "significance=0.010, p=0.0000004\n",
            "Categorical variables are dependent\n"
          ]
        },
        {
          "output_type": "execute_result",
          "data": {
            "text/plain": [
              "True"
            ]
          },
          "metadata": {},
          "execution_count": 30
        }
      ]
    },
    {
      "cell_type": "markdown",
      "source": [
        "**Diabetic patients tends to have higher 10 years risk of CHD**"
      ],
      "metadata": {
        "id": "hwiI0U22HXRZ"
      }
    },
    {
      "cell_type": "markdown",
      "source": [
        "## **Continuous Variables**"
      ],
      "metadata": {
        "id": "IQrg9fPvHmM1"
      }
    },
    {
      "cell_type": "code",
      "metadata": {
        "id": "enUdczhiYrZO"
      },
      "source": [
        "cont_features = ['age', 'totChol', 'cigsPerDay', 'sysBP', 'diaBP', 'BMI', 'heartRate', 'glucose']"
      ],
      "execution_count": 31,
      "outputs": []
    },
    {
      "cell_type": "code",
      "metadata": {
        "id": "tApIUZfdYXV2"
      },
      "source": [
        "knn_imputer= KNNImputer(n_neighbors=5)\n",
        "knn_imputer.fit(train_df[cont_features])\n",
        "train_df[cont_features]= knn_imputer.transform(train_df[cont_features])\n",
        "test_df[cont_features]= knn_imputer.transform(test_df[cont_features])"
      ],
      "execution_count": 32,
      "outputs": []
    },
    {
      "cell_type": "markdown",
      "source": [
        "## **Age**"
      ],
      "metadata": {
        "id": "L30qy0AhHvY_"
      }
    },
    {
      "cell_type": "code",
      "metadata": {
        "colab": {
          "base_uri": "https://localhost:8080/"
        },
        "id": "Gv7sAiquXkC9",
        "outputId": "3b8562a0-0e9a-4c6f-bf5a-41c983263526"
      },
      "source": [
        "train_df.age.unique()"
      ],
      "execution_count": 33,
      "outputs": [
        {
          "output_type": "execute_result",
          "data": {
            "text/plain": [
              "array([49., 51., 57., 59., 52., 60., 48., 40., 54., 39., 56., 44., 42.,\n",
              "       43., 41., 45., 37., 61., 53., 62., 47., 36., 55., 34., 46., 64.,\n",
              "       38., 58., 63., 35., 50., 65., 67., 66., 68., 33., 69., 70., 32.])"
            ]
          },
          "metadata": {},
          "execution_count": 33
        }
      ]
    },
    {
      "cell_type": "code",
      "metadata": {
        "colab": {
          "base_uri": "https://localhost:8080/",
          "height": 353
        },
        "id": "hrDmXuzyXq97",
        "outputId": "013602e1-89fa-4165-a604-c54e7fe5e6eb"
      },
      "source": [
        "fig, axes = plt.subplots(1,2,figsize=(15,5))\n",
        "sns.distplot(train_df['age'], ax=axes[0])\n",
        "sns.boxplot(y='age',x='TenYearCHD',data=train_df, ax=axes[1])"
      ],
      "execution_count": 34,
      "outputs": [
        {
          "output_type": "execute_result",
          "data": {
            "text/plain": [
              "<matplotlib.axes._subplots.AxesSubplot at 0x7fb7fe9b9e10>"
            ]
          },
          "metadata": {},
          "execution_count": 34
        },
        {
          "output_type": "display_data",
          "data": {
            "text/plain": [
              "<Figure size 1080x360 with 2 Axes>"
            ],
            "image/png": "[encoded data removed]"
          },
          "metadata": {
            "needs_background": "light"
          }
        }
      ]
    },
    {
      "cell_type": "code",
      "metadata": {
        "id": "3CmDr7EJupdY"
      },
      "source": [
        "# using one-way ANOVA test to determine dependency between continuous variables and the target categorical variable\n",
        "def cont_dependency(feature,alpha=alpha):\n",
        "  F, p = f_oneway(train_df[train_df['TenYearCHD'] == 1][feature], train_df[train_df['TenYearCHD'] == 0][feature])\n",
        "  print('significance=%.3f, p=%.5f' % (alpha, p))\n",
        "  if p <= alpha:\n",
        "    print('Ten year Risk of CHD is dependent on the continuous variable')\n",
        "    return True\n",
        "  else:\n",
        "    print('Ten year Risk of CHD is not dependent on continuous variable')\n",
        "    return False"
      ],
      "execution_count": 35,
      "outputs": []
    },
    {
      "cell_type": "code",
      "metadata": {
        "colab": {
          "base_uri": "https://localhost:8080/"
        },
        "id": "yVUUlje3i_Qc",
        "outputId": "efe39ecb-ba0f-4560-b544-d1ae4cbc7e22"
      },
      "source": [
        "cont_dependency('age')"
      ],
      "execution_count": 36,
      "outputs": [
        {
          "output_type": "stream",
          "name": "stdout",
          "text": [
            "significance=0.010, p=0.00000\n",
            "Ten year Risk of CHD is dependent on the continuous variable\n"
          ]
        },
        {
          "output_type": "execute_result",
          "data": {
            "text/plain": [
              "True"
            ]
          },
          "metadata": {},
          "execution_count": 36
        }
      ]
    },
    {
      "cell_type": "markdown",
      "source": [
        "## **Bucketing age features**"
      ],
      "metadata": {
        "id": "vnLUMAFOH1wy"
      }
    },
    {
      "cell_type": "code",
      "metadata": {
        "id": "ygP8iDLhJDDi"
      },
      "source": [
        "train_df['age_bucket'] = train_df['age'].apply(lambda x : 5*(x//5))"
      ],
      "execution_count": 37,
      "outputs": []
    },
    {
      "cell_type": "code",
      "metadata": {
        "colab": {
          "base_uri": "https://localhost:8080/",
          "height": 315
        },
        "id": "W1GZTC6ZH92h",
        "outputId": "b2541652-f187-40ea-bd6f-e2aee5418c18"
      },
      "source": [
        "ax=sns.factorplot('age_bucket', 'TenYearCHD', kind='bar', data = train_df, size=4, aspect=1.5)\n",
        "ax.set_ylabels('CHD Probability')"
      ],
      "execution_count": 38,
      "outputs": [
        {
          "output_type": "execute_result",
          "data": {
            "text/plain": [
              "<seaborn.axisgrid.FacetGrid at 0x7fb80146cd50>"
            ]
          },
          "metadata": {},
          "execution_count": 38
        },
        {
          "output_type": "display_data",
          "data": {
            "text/plain": [
              "<Figure size 432x288 with 1 Axes>"
            ],
            "image/png": "[encoded data removed]"
          },
          "metadata": {
            "needs_background": "light"
          }
        }
      ]
    },
    {
      "cell_type": "markdown",
      "source": [
        "**The positive CHD cases seems to be more prevalent in older people**"
      ],
      "metadata": {
        "id": "dQJDwsqPH9Ey"
      }
    },
    {
      "cell_type": "markdown",
      "source": [
        "## **Cigrrettes per day**"
      ],
      "metadata": {
        "id": "fVHUZIZnIJJA"
      }
    },
    {
      "cell_type": "code",
      "metadata": {
        "colab": {
          "base_uri": "https://localhost:8080/",
          "height": 352
        },
        "id": "LOhOAPK3ZTOG",
        "outputId": "f689836b-71ad-4c34-e47e-68aac2620e26"
      },
      "source": [
        "fig, axes = plt.subplots(1,2,figsize=(15,5))\n",
        "sns.distplot(train_df['cigsPerDay'], ax=axes[0])\n",
        "sns.boxplot(y='cigsPerDay',x='TenYearCHD',data=train_df, ax=axes[1])"
      ],
      "execution_count": 39,
      "outputs": [
        {
          "output_type": "execute_result",
          "data": {
            "text/plain": [
              "<matplotlib.axes._subplots.AxesSubplot at 0x7fb7fe851110>"
            ]
          },
          "metadata": {},
          "execution_count": 39
        },
        {
          "output_type": "display_data",
          "data": {
            "text/plain": [
              "<Figure size 1080x360 with 2 Axes>"
            ],
            "image/png": "[encoded data removed]"
          },
          "metadata": {
            "needs_background": "light"
          }
        }
      ]
    },
    {
      "cell_type": "code",
      "metadata": {
        "colab": {
          "base_uri": "https://localhost:8080/"
        },
        "id": "suTa4E_zj_Z6",
        "outputId": "bc24ac16-46d3-4e37-9970-56388461b343"
      },
      "source": [
        "cont_dependency('cigsPerDay')"
      ],
      "execution_count": 40,
      "outputs": [
        {
          "output_type": "stream",
          "name": "stdout",
          "text": [
            "significance=0.010, p=0.00184\n",
            "Ten year Risk of CHD is dependent on the continuous variable\n"
          ]
        },
        {
          "output_type": "execute_result",
          "data": {
            "text/plain": [
              "True"
            ]
          },
          "metadata": {},
          "execution_count": 40
        }
      ]
    },
    {
      "cell_type": "markdown",
      "source": [
        "**We can see that medium is slightly higher for the positive cases,which means people who smoke higher number of cigrattes per day,tend to show cardiovascular**"
      ],
      "metadata": {
        "id": "stPEZmjCIUZg"
      }
    },
    {
      "cell_type": "markdown",
      "source": [
        "## **Total Cholerstrol Level**"
      ],
      "metadata": {
        "id": "5HwuaomeJs9J"
      }
    },
    {
      "cell_type": "code",
      "metadata": {
        "colab": {
          "base_uri": "https://localhost:8080/",
          "height": 352
        },
        "id": "W2UbDJ_O5uWq",
        "outputId": "c072e91a-302c-4747-d619-572636500638"
      },
      "source": [
        "fig, axes = plt.subplots(1,2,figsize=(15,5))\n",
        "sns.distplot(train_df['totChol'], ax=axes[0])\n",
        "sns.boxplot(y='totChol',x='TenYearCHD',data=train_df, ax=axes[1])"
      ],
      "execution_count": 41,
      "outputs": [
        {
          "output_type": "execute_result",
          "data": {
            "text/plain": [
              "<matplotlib.axes._subplots.AxesSubplot at 0x7fb7fe6cac50>"
            ]
          },
          "metadata": {},
          "execution_count": 41
        },
        {
          "output_type": "display_data",
          "data": {
            "text/plain": [
              "<Figure size 1080x360 with 2 Axes>"
            ],
            "image/png": "[encoded data removed]"
          },
          "metadata": {
            "needs_background": "light"
          }
        }
      ]
    },
    {
      "cell_type": "code",
      "metadata": {
        "colab": {
          "base_uri": "https://localhost:8080/"
        },
        "id": "CDbCJhXLoqrF",
        "outputId": "d6499907-53f8-4eb2-d6ee-bea91a1ad03d"
      },
      "source": [
        "#dealing with outliers\n",
        "vals = train_df.totChol.quantile([0.25,0.75])\n",
        "print(vals)\n",
        "iqr = vals.values[1] - vals.values[0]\n",
        "min_lim, max_lim = vals.values[0] - 1.5*iqr, vals.values[1] + 1.5*iqr\n",
        "train_df['totChol'] = train_df['totChol'].apply(lambda x : x if x > min_lim and x < max_lim else train_df['totChol'].median())"
      ],
      "execution_count": 42,
      "outputs": [
        {
          "output_type": "stream",
          "name": "stdout",
          "text": [
            "0.25    206.00\n",
            "0.75    264.25\n",
            "Name: totChol, dtype: float64\n"
          ]
        }
      ]
    },
    {
      "cell_type": "code",
      "metadata": {
        "colab": {
          "base_uri": "https://localhost:8080/",
          "height": 352
        },
        "id": "9H_PfOzZo282",
        "outputId": "b08db6f6-d91a-4f47-e4d5-7a7b5ba5ffd7"
      },
      "source": [
        "fig, axes = plt.subplots(1,2,figsize=(15,5))\n",
        "sns.distplot(train_df['totChol'], ax=axes[0])\n",
        "sns.boxplot(y='totChol',x='TenYearCHD',data=train_df, ax=axes[1])"
      ],
      "execution_count": 43,
      "outputs": [
        {
          "output_type": "execute_result",
          "data": {
            "text/plain": [
              "<matplotlib.axes._subplots.AxesSubplot at 0x7fb7fe55d5d0>"
            ]
          },
          "metadata": {},
          "execution_count": 43
        },
        {
          "output_type": "display_data",
          "data": {
            "text/plain": [
              "<Figure size 1080x360 with 2 Axes>"
            ],
            "image/png": "[encoded data removed]"
          },
          "metadata": {
            "needs_background": "light"
          }
        }
      ]
    },
    {
      "cell_type": "code",
      "metadata": {
        "colab": {
          "base_uri": "https://localhost:8080/"
        },
        "id": "r0uZnN8NkX6N",
        "outputId": "dfc83c16-24bd-40b2-a60f-21328c9c4cf4"
      },
      "source": [
        "cont_dependency('totChol')"
      ],
      "execution_count": 44,
      "outputs": [
        {
          "output_type": "stream",
          "name": "stdout",
          "text": [
            "significance=0.010, p=0.00000\n",
            "Ten year Risk of CHD is dependent on the continuous variable\n"
          ]
        },
        {
          "output_type": "execute_result",
          "data": {
            "text/plain": [
              "True"
            ]
          },
          "metadata": {},
          "execution_count": 44
        }
      ]
    },
    {
      "cell_type": "markdown",
      "source": [
        "**Bucketing Total Cholerstrol Feature**"
      ],
      "metadata": {
        "id": "vLJZsQD_KFWL"
      }
    },
    {
      "cell_type": "code",
      "metadata": {
        "id": "K_pdHqpGLX09"
      },
      "source": [
        "train_df['chol_bucket'] = train_df['totChol'].apply(lambda x : 40*(x//40))"
      ],
      "execution_count": 45,
      "outputs": []
    },
    {
      "cell_type": "code",
      "metadata": {
        "colab": {
          "base_uri": "https://localhost:8080/",
          "height": 315
        },
        "id": "X808Qa6qLX1C",
        "outputId": "7af454a5-bf5f-48de-a257-b152b20fd5b9"
      },
      "source": [
        "ax = sns.factorplot('chol_bucket', 'TenYearCHD', kind='bar', data = train_df, size=4, aspect=1.5)\n",
        "ax.set_ylabels('CHD Probability')"
      ],
      "execution_count": 46,
      "outputs": [
        {
          "output_type": "execute_result",
          "data": {
            "text/plain": [
              "<seaborn.axisgrid.FacetGrid at 0x7fb7fe5b7b10>"
            ]
          },
          "metadata": {},
          "execution_count": 46
        },
        {
          "output_type": "display_data",
          "data": {
            "text/plain": [
              "<Figure size 432x288 with 1 Axes>"
            ],
            "image/png": "[encoded data removed]"
          },
          "metadata": {
            "needs_background": "light"
          }
        }
      ]
    },
    {
      "cell_type": "markdown",
      "source": [
        "## **Systolic & diastolic BP**"
      ],
      "metadata": {
        "id": "sO4o4dzdKZw0"
      }
    },
    {
      "cell_type": "code",
      "metadata": {
        "colab": {
          "base_uri": "https://localhost:8080/",
          "height": 624
        },
        "id": "4ZfaX2y16azZ",
        "outputId": "5f58100b-608b-464b-87d2-c66c130cf417"
      },
      "source": [
        "fig, axes = plt.subplots(2,2,figsize=(15,10))\n",
        "sns.distplot(train_df['sysBP'], ax=axes[0,0])\n",
        "sns.boxplot(y='sysBP',x='TenYearCHD',data=train_df, ax=axes[0,1])\n",
        "sns.distplot(train_df['diaBP'], ax=axes[1,0])\n",
        "sns.boxplot(y='diaBP',x='TenYearCHD',data=train_df, ax=axes[1,1])"
      ],
      "execution_count": 52,
      "outputs": [
        {
          "output_type": "execute_result",
          "data": {
            "text/plain": [
              "<matplotlib.axes._subplots.AxesSubplot at 0x7fb7fdfc9b50>"
            ]
          },
          "metadata": {},
          "execution_count": 52
        },
        {
          "output_type": "display_data",
          "data": {
            "text/plain": [
              "<Figure size 1080x720 with 4 Axes>"
            ],
            "image/png": "[encoded data removed]"
          },
          "metadata": {
            "needs_background": "light"
          }
        }
      ]
    },
    {
      "cell_type": "code",
      "metadata": {
        "colab": {
          "base_uri": "https://localhost:8080/"
        },
        "id": "e2UpX2HAkmcC",
        "outputId": "54e182cd-5a47-4ca3-b94b-d729d5757234"
      },
      "source": [
        "cont_dependency('sysBP')"
      ],
      "execution_count": 48,
      "outputs": [
        {
          "output_type": "stream",
          "name": "stdout",
          "text": [
            "significance=0.010, p=0.00000\n",
            "Ten year Risk of CHD is dependent on the continuous variable\n"
          ]
        },
        {
          "output_type": "execute_result",
          "data": {
            "text/plain": [
              "True"
            ]
          },
          "metadata": {},
          "execution_count": 48
        }
      ]
    },
    {
      "cell_type": "code",
      "metadata": {
        "colab": {
          "base_uri": "https://localhost:8080/"
        },
        "id": "z4mGRmJaksqg",
        "outputId": "e7479214-b0ba-4f22-f80a-194d9b6684c1"
      },
      "source": [
        "cont_dependency('diaBP')"
      ],
      "execution_count": 49,
      "outputs": [
        {
          "output_type": "stream",
          "name": "stdout",
          "text": [
            "significance=0.010, p=0.00000\n",
            "Ten year Risk of CHD is dependent on the continuous variable\n"
          ]
        },
        {
          "output_type": "execute_result",
          "data": {
            "text/plain": [
              "True"
            ]
          },
          "metadata": {},
          "execution_count": 49
        }
      ]
    },
    {
      "cell_type": "markdown",
      "source": [
        "**Bucketing Systolic BP Feature**"
      ],
      "metadata": {
        "id": "_JFYaPgyK2yT"
      }
    },
    {
      "cell_type": "code",
      "metadata": {
        "id": "UMqJAGuTMIoN"
      },
      "source": [
        "train_df['sysBP_bucket'] = train_df['sysBP'].apply(lambda x : 30*(x//30))"
      ],
      "execution_count": 50,
      "outputs": []
    },
    {
      "cell_type": "code",
      "metadata": {
        "colab": {
          "base_uri": "https://localhost:8080/",
          "height": 315
        },
        "id": "dUe_l_hbMIoQ",
        "outputId": "60ed61d5-d062-4a92-83f1-32a79627ead8"
      },
      "source": [
        "ax = sns.factorplot('sysBP_bucket', 'TenYearCHD', kind='bar', data = train_df, size=4, aspect=1.5)\n",
        "ax.set_ylabels('CHD Probability')"
      ],
      "execution_count": 51,
      "outputs": [
        {
          "output_type": "execute_result",
          "data": {
            "text/plain": [
              "<seaborn.axisgrid.FacetGrid at 0x7fb7fe07c1d0>"
            ]
          },
          "metadata": {},
          "execution_count": 51
        },
        {
          "output_type": "display_data",
          "data": {
            "text/plain": [
              "<Figure size 432x288 with 1 Axes>"
            ],
            "image/png": "[encoded data removed]"
          },
          "metadata": {
            "needs_background": "light"
          }
        }
      ]
    },
    {
      "cell_type": "markdown",
      "source": [
        "**We see a slightly positive inclination of CHD risk towards high systolic & diastolic Blood Pressure**"
      ],
      "metadata": {
        "id": "SkZQc9PnLi8p"
      }
    },
    {
      "cell_type": "markdown",
      "source": [
        "##**Body Mass Index(BMI)**"
      ],
      "metadata": {
        "id": "TmVVI4igL3Tb"
      }
    },
    {
      "cell_type": "code",
      "source": [
        ""
      ],
      "metadata": {
        "id": "P-1ctHoVTd-L"
      },
      "execution_count": null,
      "outputs": []
    },
    {
      "cell_type": "code",
      "metadata": {
        "colab": {
          "base_uri": "https://localhost:8080/",
          "height": 162
        },
        "id": "hGTfwSbIUTJv",
        "outputId": "d8c7f675-7e86-4e9e-bd99-db6c319824b3"
      },
      "source": [
        "fig, axes = plt.subplots(1,2,figsize=(15,5))\n",
        "sns.distplot(train_df['BMI'], ax=axes[0])\n",
        "sns.boxplot(y='BMI',x='TenYearCHD',data=train_df, ax=axes[1])"
      ],
      "execution_count": null,
      "outputs": [
        {
          "output_type": "execute_result",
          "data": {
            "text/plain": [
              "<matplotlib.axes._subplots.AxesSubplot at 0x7f6000b56fd0>"
            ]
          },
          "metadata": {
            "tags": []
          },
          "execution_count": 177
        },
        {
          "output_type": "display_data",
          "data": {
            "image/png": "[encoded data removed]",
            "text/plain": [
              "<Figure size 1080x360 with 2 Axes>"
            ]
          },
          "metadata": {
            "tags": []
          }
        }
      ]
    },
    {
      "cell_type": "code",
      "metadata": {
        "colab": {
          "base_uri": "https://localhost:8080/"
        },
        "id": "iAN0_dhmlB1O",
        "outputId": "68df7078-3165-47e6-ea53-18371f47d1b5"
      },
      "source": [
        "cont_dependency('BMI')"
      ],
      "execution_count": null,
      "outputs": [
        {
          "output_type": "stream",
          "text": [
            "significance=0.010, p=0.00279\n",
            "Ten year Risk of CHD is dependent on the continuous variable\n"
          ],
          "name": "stdout"
        },
        {
          "output_type": "execute_result",
          "data": {
            "text/plain": [
              "True"
            ]
          },
          "metadata": {
            "tags": []
          },
          "execution_count": 178
        }
      ]
    },
    {
      "cell_type": "code",
      "metadata": {
        "id": "ERasw91-OL92"
      },
      "source": [
        "train_df['bmi_bucket'] = train_df['BMI'].apply(lambda x : 3*(x//3))"
      ],
      "execution_count": null,
      "outputs": []
    },
    {
      "cell_type": "code",
      "metadata": {
        "colab": {
          "base_uri": "https://localhost:8080/",
          "height": 259
        },
        "id": "v0Dx3pIcOL97",
        "outputId": "28bbe0c1-d24a-4298-aefd-23e8ef25b1b8"
      },
      "source": [
        "ax = sns.factorplot('bmi_bucket', 'TenYearCHD', kind='bar', data = train_df, size=4, aspect=1.5)\n",
        "ax.set_ylabels('CHD Probability')"
      ],
      "execution_count": null,
      "outputs": [
        {
          "output_type": "execute_result",
          "data": {
            "text/plain": [
              "<seaborn.axisgrid.FacetGrid at 0x7f6000b3a650>"
            ]
          },
          "metadata": {
            "tags": []
          },
          "execution_count": 180
        },
        {
          "output_type": "display_data",
          "data": {
            "image/png": "[encoded data removed]",
            "text/plain": [
              "<Figure size 432x288 with 1 Axes>"
            ]
          },
          "metadata": {
            "tags": []
          }
        }
      ]
    },
    {
      "cell_type": "code",
      "metadata": {
        "colab": {
          "base_uri": "https://localhost:8080/",
          "height": 162
        },
        "id": "FHvXOj5MdZ5c",
        "outputId": "bf4f80d5-3be4-4d17-dfa4-c06302e592eb"
      },
      "source": [
        "fig, axes = plt.subplots(1,2,figsize=(15,5))\n",
        "sns.distplot(train_df['heartRate'], ax=axes[0])\n",
        "sns.boxplot(y='heartRate',x='TenYearCHD',data=train_df, ax=axes[1])"
      ],
      "execution_count": null,
      "outputs": [
        {
          "output_type": "execute_result",
          "data": {
            "text/plain": [
              "<matplotlib.axes._subplots.AxesSubplot at 0x7f6000a60690>"
            ]
          },
          "metadata": {
            "tags": []
          },
          "execution_count": 181
        },
        {
          "output_type": "display_data",
          "data": {
            "image/png": "[encoded data removed]",
            "text/plain": [
              "<Figure size 1080x360 with 2 Axes>"
            ]
          },
          "metadata": {
            "tags": []
          }
        }
      ]
    },
    {
      "cell_type": "code",
      "metadata": {
        "colab": {
          "base_uri": "https://localhost:8080/"
        },
        "id": "LkW6iWAVltbs",
        "outputId": "2340ea7d-1100-41ce-b5a7-d54ddabf37e4"
      },
      "source": [
        "cont_dependency('heartRate')"
      ],
      "execution_count": null,
      "outputs": [
        {
          "output_type": "stream",
          "text": [
            "significance=0.010, p=0.16756\n",
            "Ten year Risk of CHD is not dependent on continuous variable\n"
          ],
          "name": "stdout"
        },
        {
          "output_type": "execute_result",
          "data": {
            "text/plain": [
              "False"
            ]
          },
          "metadata": {
            "tags": []
          },
          "execution_count": 182
        }
      ]
    },
    {
      "cell_type": "code",
      "metadata": {
        "id": "6i2p937LOev4"
      },
      "source": [
        "train_df['hr_bucket'] = train_df['heartRate'].apply(lambda x : 10*(x//10))"
      ],
      "execution_count": null,
      "outputs": []
    },
    {
      "cell_type": "code",
      "metadata": {
        "colab": {
          "base_uri": "https://localhost:8080/",
          "height": 259
        },
        "id": "aCYMpXLdOev6",
        "outputId": "12dd12ff-d29a-4e21-8035-00073523fd4d"
      },
      "source": [
        "ax = sns.factorplot('hr_bucket', 'TenYearCHD', kind='bar', data = train_df, size=4, aspect=1.5)\n",
        "ax.set_ylabels('CHD Probability')"
      ],
      "execution_count": null,
      "outputs": [
        {
          "output_type": "execute_result",
          "data": {
            "text/plain": [
              "<seaborn.axisgrid.FacetGrid at 0x7f6000799b10>"
            ]
          },
          "metadata": {
            "tags": []
          },
          "execution_count": 184
        },
        {
          "output_type": "display_data",
          "data": {
            "image/png": "[encoded data removed]",
            "text/plain": [
              "<Figure size 432x288 with 1 Axes>"
            ]
          },
          "metadata": {
            "tags": []
          }
        }
      ]
    },
    {
      "cell_type": "code",
      "metadata": {
        "colab": {
          "base_uri": "https://localhost:8080/",
          "height": 161
        },
        "id": "aJZglrhQm9WX",
        "outputId": "7604380f-e642-495c-d9cb-3d68ce7a9dc9"
      },
      "source": [
        "fig, axes = plt.subplots(1,2,figsize=(15,5))\n",
        "sns.distplot(train_df['glucose'], ax=axes[0])\n",
        "sns.boxplot(y='glucose',x='TenYearCHD',data=train_df, ax=axes[1])"
      ],
      "execution_count": null,
      "outputs": [
        {
          "output_type": "execute_result",
          "data": {
            "text/plain": [
              "<matplotlib.axes._subplots.AxesSubplot at 0x7f60009f7050>"
            ]
          },
          "metadata": {
            "tags": []
          },
          "execution_count": 185
        },
        {
          "output_type": "display_data",
          "data": {
            "image/png": "[encoded data removed]",
            "text/plain": [
              "<Figure size 1080x360 with 2 Axes>"
            ]
          },
          "metadata": {
            "tags": []
          }
        }
      ]
    },
    {
      "cell_type": "code",
      "metadata": {
        "colab": {
          "base_uri": "https://localhost:8080/"
        },
        "id": "A7upt6mRnmP5",
        "outputId": "903bbabc-d111-4a19-839c-d27f2a561bb1"
      },
      "source": [
        "cont_dependency('glucose')"
      ],
      "execution_count": null,
      "outputs": [
        {
          "output_type": "stream",
          "text": [
            "significance=0.010, p=0.00000\n",
            "Ten year Risk of CHD is dependent on the continuous variable\n"
          ],
          "name": "stdout"
        },
        {
          "output_type": "execute_result",
          "data": {
            "text/plain": [
              "True"
            ]
          },
          "metadata": {
            "tags": []
          },
          "execution_count": 186
        }
      ]
    },
    {
      "cell_type": "code",
      "metadata": {
        "id": "U-tZyF8lKE21"
      },
      "source": [
        "train_df['glucose_bucket'] = train_df['glucose'].apply(lambda x : 50*(x//50))"
      ],
      "execution_count": null,
      "outputs": []
    },
    {
      "cell_type": "code",
      "metadata": {
        "colab": {
          "base_uri": "https://localhost:8080/",
          "height": 259
        },
        "id": "lvCf_TLxKE26",
        "outputId": "0d806f0d-f075-4c96-f434-92ee165f7ec7"
      },
      "source": [
        "ax = sns.factorplot('glucose_bucket', 'TenYearCHD', kind='bar', data = train_df, size=4, aspect=1.5)\n",
        "ax.set_ylabels('CHD Probability')"
      ],
      "execution_count": null,
      "outputs": [
        {
          "output_type": "execute_result",
          "data": {
            "text/plain": [
              "<seaborn.axisgrid.FacetGrid at 0x7f600068db90>"
            ]
          },
          "metadata": {
            "tags": []
          },
          "execution_count": 188
        },
        {
          "output_type": "display_data",
          "data": {
            "image/png": "[encoded data removed]",
            "text/plain": [
              "<Figure size 432x288 with 1 Axes>"
            ]
          },
          "metadata": {
            "tags": []
          }
        }
      ]
    },
    {
      "cell_type": "code",
      "metadata": {
        "colab": {
          "base_uri": "https://localhost:8080/"
        },
        "id": "1eHtj07UwejM",
        "outputId": "56fbd34b-731f-4d6d-904e-14e1e3a64d84"
      },
      "source": [
        "train_df.info()"
      ],
      "execution_count": null,
      "outputs": [
        {
          "output_type": "stream",
          "text": [
            "<class 'pandas.core.frame.DataFrame'>\n",
            "Int64Index: 2712 entries, 542 to 682\n",
            "Data columns (total 23 columns):\n",
            " #   Column           Non-Null Count  Dtype  \n",
            "---  ------           --------------  -----  \n",
            " 0   id               2712 non-null   int64  \n",
            " 1   age              2712 non-null   float64\n",
            " 2   education        2712 non-null   float64\n",
            " 3   sex              2712 non-null   object \n",
            " 4   is_smoking       2712 non-null   object \n",
            " 5   cigsPerDay       2712 non-null   float64\n",
            " 6   BPMeds           2712 non-null   float64\n",
            " 7   prevalentStroke  2712 non-null   int64  \n",
            " 8   prevalentHyp     2712 non-null   int64  \n",
            " 9   diabetes         2712 non-null   int64  \n",
            " 10  totChol          2712 non-null   float64\n",
            " 11  sysBP            2712 non-null   float64\n",
            " 12  diaBP            2712 non-null   float64\n",
            " 13  BMI              2712 non-null   float64\n",
            " 14  heartRate        2712 non-null   float64\n",
            " 15  glucose          2712 non-null   float64\n",
            " 16  TenYearCHD       2712 non-null   int64  \n",
            " 17  age_bucket       2712 non-null   float64\n",
            " 18  chol_bucket      2712 non-null   float64\n",
            " 19  sysBP_bucket     2712 non-null   float64\n",
            " 20  bmi_bucket       2712 non-null   float64\n",
            " 21  hr_bucket        2712 non-null   float64\n",
            " 22  glucose_bucket   2712 non-null   float64\n",
            "dtypes: float64(16), int64(5), object(2)\n",
            "memory usage: 588.5+ KB\n"
          ],
          "name": "stdout"
        }
      ]
    }
  ]
}